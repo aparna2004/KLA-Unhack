{
  "nbformat": 4,
  "nbformat_minor": 0,
  "metadata": {
    "colab": {
      "provenance": [],
      "authorship_tag": "ABX9TyOZzLS9y3Cn8VNYckbW6yrt",
      "include_colab_link": true
    },
    "kernelspec": {
      "name": "python3",
      "display_name": "Python 3"
    },
    "language_info": {
      "name": "python"
    }
  },
  "cells": [
    {
      "cell_type": "markdown",
      "metadata": {
        "id": "view-in-github",
        "colab_type": "text"
      },
      "source": [
        "<a href=\"https://colab.research.google.com/github/aparna2004/KLA-Unhack/blob/main/Milestone2.ipynb\" target=\"_parent\"><img src=\"https://colab.research.google.com/assets/colab-badge.svg\" alt=\"Open In Colab\"/></a>"
      ]
    },
    {
      "cell_type": "markdown",
      "source": [
        "## Image text detection with slightly titlted or changed background (using ocr)\n",
        "\n",
        "- Template matching provided inconsitent results, for this data set ocr is providing accurate output."
      ],
      "metadata": {
        "id": "liio7TLijbo7"
      }
    },
    {
      "cell_type": "markdown",
      "source": [
        "###Installing Required Packages\n",
        "\n",
        "####**Installing easyocr**\n",
        "- Dependenciecs already available in colab\n",
        "\n",
        "####**Downgrading to python-bidi 0.4.2**\n",
        "- Because bidi.algorithm needed by easyocr not supported in higher versions"
      ],
      "metadata": {
        "id": "pRoWpxc7jjAC"
      }
    },
    {
      "cell_type": "code",
      "source": [
        "!pip install easyocr --no-deps\n",
        "!pip install python-bidi==0.4.2"
      ],
      "metadata": {
        "id": "m8hDpRQ1jaOd"
      },
      "execution_count": null,
      "outputs": []
    },
    {
      "cell_type": "markdown",
      "source": [
        "### Speed limit detection using OCR\n",
        "####**Libraries used**\n",
        "- pandas -> data frame\n",
        "- glob(function in python lib) -> To match image file paths\n",
        "- easyocr -> Text detection using optical character recognition\n",
        "\n",
        "####**Input**\n",
        "- Images containing speed limit boards which is slightly rotated or has a different background\n",
        "\n",
        "####**Output**\n",
        "- CSV file with two columns: Image Name, Speed limit\n",
        "\n",
        "####**Function**\n",
        "- detects text from images\n",
        "- takes number from a given array(all speed limits specified in templates)only numbers\n",
        "- returns sorted data(according to order of input) ignoring confidence and bounding box\n"
      ],
      "metadata": {
        "id": "jP3cA8SwkKp5"
      }
    },
    {
      "cell_type": "code",
      "source": [
        "import pandas as pd\n",
        "from glob import glob\n",
        "import easyocr\n",
        "\n",
        "def speed_limit_detection2(imgs, reader):\n",
        "    dfs = []\n",
        "    for img in imgs:\n",
        "        detected_text = reader.readtext(img)\n",
        "        img_id = img.split('/')[-1]\n",
        "\n",
        "        if not detected_text:\n",
        "            img_df = pd.DataFrame([{'bbox': None, 'Speed limit': 'None', 'conf': None, 'Image name': img_id}])\n",
        "        else:\n",
        "            img_df = pd.DataFrame(detected_text, columns=['bbox', 'Speed limit', 'conf'])\n",
        "            img_df['Image name'] = img_id\n",
        "\n",
        "        dfs.append(img_df)\n",
        "\n",
        "    return pd.concat(dfs, ignore_index=True)\n",
        "\n",
        "def main():\n",
        "\n",
        "    reader = easyocr.Reader(['en'], gpu = True)\n",
        "    images = glob('../content/sample_data/Milestone2/*')\n",
        "\n",
        "    df = speed_limit_detection2(images, reader)\n",
        "\n",
        "    df = df[df['Speed limit'].isin(['10', '15', '20', '25', '40', '45', '50', '55', '70', '75', '80', '85' ])].drop(columns=['bbox','conf']).sort_values(by='Image name')\n",
        "    df = df[['Image name', 'Speed limit']]\n",
        "\n",
        "    df.to_csv('M2_Output.csv', index=False)\n",
        "    print(df)\n",
        "\n",
        "if __name__ == \"__main__\":\n",
        "    main()"
      ],
      "metadata": {
        "colab": {
          "base_uri": "https://localhost:8080/"
        },
        "id": "0mJaD09nkrG8",
        "outputId": "490e91ce-5f76-4cf1-cc9b-cf8579f7d9c7"
      },
      "execution_count": 4,
      "outputs": [
        {
          "output_type": "stream",
          "name": "stderr",
          "text": [
            "WARNING:easyocr.easyocr:Neither CUDA nor MPS are available - defaulting to CPU. Note: This module is much faster with a GPU.\n",
            "WARNING:easyocr.easyocr:Downloading detection model, please wait. This may take several minutes depending upon your network connection.\n"
          ]
        },
        {
          "output_type": "stream",
          "name": "stdout",
          "text": [
            "Progress: |██████████████████████████████████████████████████| 100.0% Complete"
          ]
        },
        {
          "output_type": "stream",
          "name": "stderr",
          "text": [
            "WARNING:easyocr.easyocr:Downloading recognition model, please wait. This may take several minutes depending upon your network connection.\n"
          ]
        },
        {
          "output_type": "stream",
          "name": "stdout",
          "text": [
            "Progress: |██████████████████████████████████████████████████| 100.0% Complete      Image name Speed limit\n",
            "25  Picture1.jpg          40\n",
            "41  Picture2.jpg          15\n",
            "28  Picture3.jpg          70\n",
            "38  Picture4.jpg          25\n",
            "12  Picture5.jpg          55\n",
            "34  Picture6.jpg          20\n",
            "47  Picture7.jpg          85\n",
            "20  Picture8.jpg          80\n"
          ]
        }
      ]
    }
  ]
}