{
  "nbformat": 4,
  "nbformat_minor": 0,
  "metadata": {
    "colab": {
      "provenance": [],
      "gpuType": "T4",
      "authorship_tag": "ABX9TyP5RjbAoReol1hTwBqwQvRe",
      "include_colab_link": true
    },
    "kernelspec": {
      "name": "python3",
      "display_name": "Python 3"
    },
    "language_info": {
      "name": "python"
    },
    "accelerator": "GPU"
  },
  "cells": [
    {
      "cell_type": "markdown",
      "metadata": {
        "id": "view-in-github",
        "colab_type": "text"
      },
      "source": [
        "<a href=\"https://colab.research.google.com/github/aparna2004/KLA-Unhack/blob/main/Milestone3.ipynb\" target=\"_parent\"><img src=\"https://colab.research.google.com/assets/colab-badge.svg\" alt=\"Open In Colab\"/></a>"
      ]
    },
    {
      "cell_type": "markdown",
      "source": [
        "# Image text detection with slightly titlted or changed background and labled car data (using ocr)"
      ],
      "metadata": {
        "id": "ZpVXPVuz1Yua"
      }
    },
    {
      "cell_type": "markdown",
      "source": [
        "###Installing Required Packages\n",
        "\n",
        "####**Installing easyocr**\n",
        "- Dependenciecs already available in colab\n",
        "\n",
        "####**Downgrading to python-bidi 0.4.2**\n",
        "- Because bidi.algorithm needed by easyocr not supported in higher *versions*"
      ],
      "metadata": {
        "id": "oEDNa7B22_Yi"
      }
    },
    {
      "cell_type": "code",
      "execution_count": null,
      "metadata": {
        "id": "9bvKRD_IqWl5"
      },
      "outputs": [],
      "source": [
        "!pip install easyocr --no-deps\n",
        "!pip install python-bidi==0.4.2"
      ]
    },
    {
      "cell_type": "markdown",
      "source": [
        "### Speed limit detection using OCR\n",
        "####**Libraries used**\n",
        "- pandas -> data frame\n",
        "- glob(function in python lib) -> To match image file paths\n",
        "- easyocr -> Text detection using optical character recognition\n",
        "\n",
        "####**Input**\n",
        "- Images containing speed limit boards which is slightly rotated or has a different background\n",
        "with vehicles labeled along with speed of vehicles\n",
        "\n",
        "####**Output**\n",
        "- CSV file with four columns: Image Name, Speed limit, No. of Vehicles, No, of Overspeeding vehicles\n",
        "\n",
        "####**Function**\n",
        "- Detects text from images\n",
        "- Takes number from a given array(all speed limits specified in templates)only numbers\n",
        "- Remaining text added as other text for extraction of vehicle data\n",
        "- Calculates number of vehicles from a given list of vehicles\n",
        "- Calculates number of vehicles overspeeding by checking for speed specified after vehicle name\n",
        "- Handles case when number is 0\n",
        "- Returns sorted data(according to order of input) ignoring confidence and bounding box\n"
      ],
      "metadata": {
        "id": "i5EIG4fr3CJY"
      }
    },
    {
      "cell_type": "code",
      "source": [
        "import pandas as pd\n",
        "from glob import glob\n",
        "import easyocr\n",
        "import re\n",
        "\n",
        "def speed_limit_detection(imgs, reader):\n",
        "    speed_limits = {'10', '15', '20', '25', '40', '45', '50', '55', '70', '75', '80', '85'}\n",
        "    vehicles = ['Car', 'Bicycle', 'Truck']\n",
        "    dfs = []\n",
        "\n",
        "    def count_vehicles(text):\n",
        "        return sum(len(re.findall(vehicle, text, re.IGNORECASE)) for vehicle in vehicles)\n",
        "\n",
        "    def extract_vehicle_speeds(text):\n",
        "        return [(vehicle, int(speed)) for vehicle, speed in re.findall(r'(Car|Bicycle|Truck)\\s?\\d*:\\s?(\\d+)', text, re.IGNORECASE)]\n",
        "\n",
        "    for img in imgs:\n",
        "        detected_text = reader.readtext(img)\n",
        "        img_id = img.split('/')[-1]\n",
        "\n",
        "        if not detected_text:\n",
        "            dfs.append({'Image name': img_id, 'Speed limit': 'None', 'No. of Vehicles': 'none', 'No. of Overspeeding Vehicles': 'None'})\n",
        "            continue\n",
        "\n",
        "        filtered_text = [entry for entry in detected_text if entry[1] in speed_limits]\n",
        "        other_texts = ' '.join(entry[1] for entry in detected_text if entry[1] not in speed_limits)\n",
        "\n",
        "        if filtered_text:\n",
        "            speed_limit = filtered_text[0][1]\n",
        "            speed_limit_value = int(speed_limit)\n",
        "        else:\n",
        "            speed_limit = 'None'\n",
        "            speed_limit_value = float('inf')\n",
        "\n",
        "        no_of_vehicles = count_vehicles(other_texts)\n",
        "        vehicle_speeds = extract_vehicle_speeds(other_texts)\n",
        "        no_of_overspeeding_vehicles = sum(1 for _, speed in vehicle_speeds if speed > speed_limit_value)\n",
        "\n",
        "        dfs.append({\n",
        "            'Image name': img_id,\n",
        "            'Speed limit': speed_limit,\n",
        "            'No. of Vehicles': no_of_vehicles,\n",
        "            'No. of Overspeeding Vehicles': no_of_overspeeding_vehicles\n",
        "        })\n",
        "\n",
        "    df = pd.DataFrame(dfs)\n",
        "    df['No. of Overspeeding Vehicles'] = df['No. of Overspeeding Vehicles'].replace(0, 'None')\n",
        "\n",
        "    return df\n",
        "\n",
        "def main():\n",
        "    reader = easyocr.Reader(['en'], gpu=True)\n",
        "    images = glob('../content/sample_data/Milestone3/*')\n",
        "\n",
        "    df = speed_limit_detection(images, reader)\n",
        "\n",
        "    df_grouped = df.groupby('Image name').first().reset_index()\n",
        "\n",
        "    df_grouped.to_csv('M3_Output.csv', index=False)\n",
        "    print(df_grouped)\n",
        "\n",
        "if __name__ == \"__main__\":\n",
        "    main()\n"
      ],
      "metadata": {
        "colab": {
          "base_uri": "https://localhost:8080/"
        },
        "id": "-NUQ4FDdqeZt",
        "outputId": "0afba551-7952-4506-cde7-44b380f87301"
      },
      "execution_count": 20,
      "outputs": [
        {
          "output_type": "stream",
          "name": "stdout",
          "text": [
            "     Image name Speed limit  No. of Vehicles No. of Overspeeding Vehicles\n",
            "0  Picture1.jpg          20                2                            1\n",
            "1  Picture2.jpg          80                5                            2\n",
            "2  Picture3.jpg          15                3                            2\n",
            "3  Picture4.jpg          40                2                            1\n",
            "4  Picture5.jpg          25                3                         None\n",
            "5  Picture6.jpg          85                3                            2\n",
            "6  Picture7.jpg        None                4                         None\n",
            "7  Picture8.jpg          85                0                         None\n"
          ]
        }
      ]
    }
  ]
}
